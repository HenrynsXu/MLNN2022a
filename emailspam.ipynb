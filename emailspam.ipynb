{
 "cells": [
  {
   "cell_type": "code",
   "execution_count": 3,
   "metadata": {},
   "outputs": [],
   "source": [
    "import os\n",
    "\n",
    "def load_single_file(fn):\n",
    "    x = ''\n",
    "    with open(fn, errors='ignore') as f:\n",
    "        for line in f:\n",
    "            line = line.strip('\\n')\n",
    "            line = line.strip('\\r')\n",
    "            x += line\n",
    "    return x\n",
    "def load_from_dir(dir):\n",
    "    re = []\n",
    "    flist = os.listdir(dir)\n",
    "    for cnt, item in enumerate(flist):\n",
    "        pt = os.path.join(dir,item)\n",
    "        if os.path.isfile(pt): \n",
    "            v = load_single_file(pt)\n",
    "            re.append(v)\n",
    "    return re\n",
    "def load_all_files(rtdir = './emaildata'):\n",
    "    ham = []\n",
    "    spam = []\n",
    "    for col in range(1,7):\n",
    "        pt = os.path.join(rtdir,'enron%d/ham/'%col)\n",
    "        print('loading path: %s'%pt)\n",
    "        ham += load_from_dir(pt)\n",
    "        pt = os.path.join(rtdir,'enron%d/spam/'%col)\n",
    "        print('loading path: %s'%pt)\n",
    "        spam += load_from_dir(pt)\n",
    "    return ham, spam"
   ]
  },
  {
   "cell_type": "code",
   "execution_count": 4,
   "metadata": {},
   "outputs": [
    {
     "name": "stdout",
     "output_type": "stream",
     "text": [
      "loading path: ./emaildata\\enron1/ham/\n",
      "loading path: ./emaildata\\enron1/spam/\n",
      "loading path: ./emaildata\\enron2/ham/\n",
      "loading path: ./emaildata\\enron2/spam/\n",
      "loading path: ./emaildata\\enron3/ham/\n",
      "loading path: ./emaildata\\enron3/spam/\n",
      "loading path: ./emaildata\\enron4/ham/\n",
      "loading path: ./emaildata\\enron4/spam/\n",
      "loading path: ./emaildata\\enron5/ham/\n",
      "loading path: ./emaildata\\enron5/spam/\n",
      "loading path: ./emaildata\\enron6/ham/\n",
      "loading path: ./emaildata\\enron6/spam/\n",
      "33716\n",
      "33716\n"
     ]
    }
   ],
   "source": [
    "from sklearn.feature_extraction.text import CountVectorizer,TfidfTransformer\n",
    "from sklearn.model_selection import train_test_split\n",
    "def features_wordbag_tfidf():\n",
    "    ham, spam = load_all_files()\n",
    "    x = ham+spam\n",
    "    y = [0]*len(ham)+[1]*len(spam)\n",
    "    vectorizer = CountVectorizer(binary=True,decode_error='ignore',strip_accents='ascii',stop_words='english',max_features=1000)\n",
    "    x = vectorizer.fit_transform(x)\n",
    "    x = x.toarray()\n",
    "    transformer = TfidfTransformer(smooth_idf=False)\n",
    "    tfidf = transformer.fit_transform(x)\n",
    "    tfidf = tfidf.toarray()\n",
    "    return tfidf, y\n",
    "x,y = features_wordbag_tfidf()\n",
    "print(len(x))\n",
    "print(len(y))\n",
    "x_train,x_test, y_train, y_test = train_test_split(x,y,test_size= 0.1,random_state= 8319)"
   ]
  },
  {
   "cell_type": "code",
   "execution_count": 5,
   "metadata": {},
   "outputs": [
    {
     "name": "stdout",
     "output_type": "stream",
     "text": [
      "0.9816132858837485\n",
      "[[1618   50]\n",
      " [  12 1692]]\n"
     ]
    }
   ],
   "source": [
    "from sklearn import svm\n",
    "from sklearn.metrics import accuracy_score,confusion_matrix\n",
    "def svm_cls(x_train,x_test,y_train,y_test):\n",
    "    cls = svm.SVC(C=1.0,kernel='rbf')\n",
    "    cls.fit(x_train,y_train)\n",
    "    y_pred = cls.predict(x_test)\n",
    "    print(accuracy_score(y_test,y_pred))\n",
    "    print(confusion_matrix(y_test,y_pred))\n",
    "svm_cls(x_train,x_test, y_train, y_test)"
   ]
  }
 ],
 "metadata": {
  "kernelspec": {
   "display_name": "base",
   "language": "python",
   "name": "python3"
  },
  "language_info": {
   "codemirror_mode": {
    "name": "ipython",
    "version": 3
   },
   "file_extension": ".py",
   "mimetype": "text/x-python",
   "name": "python",
   "nbconvert_exporter": "python",
   "pygments_lexer": "ipython3",
   "version": "3.8.8"
  },
  "orig_nbformat": 4,
  "vscode": {
   "interpreter": {
    "hash": "b09ec625f77bf4fd762565a912b97636504ad6ec901eb2d0f4cf5a7de23e1ee5"
   }
  }
 },
 "nbformat": 4,
 "nbformat_minor": 2
}
